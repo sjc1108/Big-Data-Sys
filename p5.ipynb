{
 "cells": [
  {
   "cell_type": "code",
   "execution_count": 1,
   "id": "0fedddd8-368c-4566-918a-85a6ed5c20ab",
   "metadata": {},
   "outputs": [],
   "source": [
    "from pyspark.sql import SparkSession\n",
    "from pyspark.sql.functions import avg\n",
    "import matplotlib.pyplot as plt\n",
    "from pyspark.sql.functions import col\n",
    "from pyspark.ml.feature import VectorAssembler\n",
    "from pyspark.ml.classification import RandomForestClassifier\n",
    "from pyspark.ml.evaluation import MulticlassClassificationEvaluator"
   ]
  },
  {
   "cell_type": "code",
   "execution_count": 2,
   "id": "c67e2ef0-3fb2-4bf3-b60c-766d897d0393",
   "metadata": {},
   "outputs": [
    {
     "name": "stdout",
     "output_type": "stream",
     "text": [
      "Configured Capacity: 25821052928 (24.05 GB)\n",
      "Present Capacity: 11555901440 (10.76 GB)\n",
      "DFS Remaining: 11357777920 (10.58 GB)\n",
      "DFS Used: 198123520 (188.95 MB)\n",
      "DFS Used%: 1.71%\n",
      "Replicated Blocks:\n",
      "\tUnder replicated blocks: 16\n",
      "\tBlocks with corrupt replicas: 0\n",
      "\tMissing blocks: 0\n",
      "\tMissing blocks (with replication factor 1): 0\n",
      "\tLow redundancy blocks with highest priority to recover: 16\n",
      "\tPending deletion blocks: 0\n",
      "Erasure Coded Block Groups: \n",
      "\tLow redundancy block groups: 0\n",
      "\tBlock groups with corrupt internal blocks: 0\n",
      "\tMissing block groups: 0\n",
      "\tLow redundancy blocks with highest priority to recover: 0\n",
      "\tPending deletion blocks: 0\n",
      "\n",
      "-------------------------------------------------\n",
      "Live datanodes (1):\n",
      "\n",
      "Name: 192.168.16.6:9866 (project-5-asian_cheese_p5-dn-1.project-5-asian_cheese_p5_default)\n",
      "Hostname: df5aa1014e59\n",
      "Decommission Status : Normal\n",
      "Configured Capacity: 25821052928 (24.05 GB)\n",
      "DFS Used: 198123520 (188.95 MB)\n",
      "Non DFS Used: 14248374272 (13.27 GB)\n",
      "DFS Remaining: 11357777920 (10.58 GB)\n",
      "DFS Used%: 0.77%\n",
      "DFS Remaining%: 43.99%\n",
      "Configured Cache Capacity: 0 (0 B)\n",
      "Cache Used: 0 (0 B)\n",
      "Cache Remaining: 0 (0 B)\n",
      "Cache Used%: 100.00%\n",
      "Cache Remaining%: 0.00%\n",
      "Xceivers: 0\n",
      "Last contact: Sat Apr 06 00:47:38 GMT 2024\n",
      "Last Block Report: Fri Apr 05 22:43:34 GMT 2024\n",
      "Num of Blocks: 38\n",
      "\n",
      "\n"
     ]
    }
   ],
   "source": [
    "!hdfs dfsadmin -fs hdfs://nn:9000/ -report"
   ]
  },
  {
   "cell_type": "code",
   "execution_count": 3,
   "id": "c4efa989-1682-4c86-a749-a6d067c3db2c",
   "metadata": {},
   "outputs": [],
   "source": [
    "!hdfs dfs -D dfs.replication=1 -cp -f data/*.csv hdfs://nn:9000/\n"
   ]
  },
  {
   "cell_type": "code",
   "execution_count": 4,
   "id": "d733e5ca-744e-4f03-8bc7-0297fb25b0ce",
   "metadata": {},
   "outputs": [
    {
     "name": "stderr",
     "output_type": "stream",
     "text": [
      "Setting default log level to \"WARN\".\n",
      "To adjust logging level use sc.setLogLevel(newLevel). For SparkR, use setLogLevel(newLevel).\n",
      "24/04/06 00:47:54 WARN NativeCodeLoader: Unable to load native-hadoop library for your platform... using builtin-java classes where applicable\n"
     ]
    }
   ],
   "source": [
    "\n",
    "spark = (SparkSession.builder.appName(\"cs544\")\n",
    "         .master(\"spark://boss:7077\")\n",
    "         .config(\"spark.executor.memory\", \"512M\")\n",
    "         .config(\"spark.sql.warehouse.dir\", \"hdfs://nn:9000/user/hive/warehouse\")\n",
    "         .enableHiveSupport()\n",
    "         .getOrCreate())"
   ]
  },
  {
   "cell_type": "code",
   "execution_count": 5,
   "id": "5b8905a9-ce5e-48e9-b748-0618cccbe61b",
   "metadata": {},
   "outputs": [
    {
     "name": "stderr",
     "output_type": "stream",
     "text": [
      "                                                                                \r"
     ]
    },
    {
     "data": {
      "text/plain": [
       "106"
      ]
     },
     "execution_count": 5,
     "metadata": {},
     "output_type": "execute_result"
    }
   ],
   "source": [
    "#q1\n",
    "\n",
    "banks_df = (spark.read.format(\"csv\")\n",
    "      .option(\"header\", True)  \n",
    "      .option(\"inferSchema\", True) \n",
    "      .load(\"hdfs://nn:9000/arid2017_to_lei_xref_csv.csv\"))  \n",
    "\n",
    "banks_rdd = banks_df.rdd\n",
    "\n",
    "banks_rdd_filter = banks_rdd.filter(lambda row: \"The\" in row.respondent_name and \"National\" in row.respondent_name)\n",
    "\n",
    "bank_count = banks_rdd_filter.count()\n",
    "\n",
    "bank_count\n",
    "\n"
   ]
  },
  {
   "cell_type": "code",
   "execution_count": 6,
   "id": "3c2d9427-9a95-462c-b9db-aff7def5d6de",
   "metadata": {},
   "outputs": [
    {
     "name": "stderr",
     "output_type": "stream",
     "text": [
      "                                                                                \r"
     ]
    },
    {
     "data": {
      "text/plain": [
       "106"
      ]
     },
     "execution_count": 6,
     "metadata": {},
     "output_type": "execute_result"
    }
   ],
   "source": [
    "#q2\n",
    "\n",
    "banks_df_filter = banks_df.filter(banks_df.respondent_name.contains(\"The\") & banks_df.respondent_name.contains(\"National\"))\n",
    "\n",
    "bank_count = banks_df_filter.count()\n",
    "\n",
    "bank_count\n"
   ]
  },
  {
   "cell_type": "code",
   "execution_count": 7,
   "id": "f7844d93-0b53-4879-ac8b-7d9b690d8dbe",
   "metadata": {},
   "outputs": [
    {
     "name": "stderr",
     "output_type": "stream",
     "text": [
      "24/04/06 00:48:25 WARN HiveConf: HiveConf of name hive.stats.jdbc.timeout does not exist\n",
      "24/04/06 00:48:25 WARN HiveConf: HiveConf of name hive.stats.retries.wait does not exist\n",
      "24/04/06 00:48:29 WARN ObjectStore: Version information not found in metastore. hive.metastore.schema.verification is not enabled so recording the schema version 2.3.0\n",
      "24/04/06 00:48:29 WARN ObjectStore: setMetaStoreSchemaVersion called but recording version is disabled: version = 2.3.0, comment = Set by MetaStore UNKNOWN@192.168.16.5\n",
      "24/04/06 00:48:31 WARN HadoopFSUtils: The directory hdfs://nn:9000/user/hive/warehouse/banks was not found. Was it deleted very recently?\n",
      "24/04/06 00:48:31 WARN ObjectStore: Failed to get database global_temp, returning NoSuchObjectException\n",
      "24/04/06 00:48:31 WARN FileUtils: File does not exist: hdfs://nn:9000/user/hive/warehouse/banks; Force to delete it.\n",
      "24/04/06 00:48:31 ERROR FileUtils: Failed to delete hdfs://nn:9000/user/hive/warehouse/banks\n",
      "24/04/06 00:48:34 WARN SessionState: METASTORE_FILTER_HOOK will be ignored, since hive.security.authorization.manager is set to instance of HiveAuthorizerFactory.\n",
      "24/04/06 00:48:34 WARN HiveConf: HiveConf of name hive.internal.ss.authz.settings.applied.marker does not exist\n",
      "24/04/06 00:48:34 WARN HiveConf: HiveConf of name hive.stats.jdbc.timeout does not exist\n",
      "24/04/06 00:48:34 WARN HiveConf: HiveConf of name hive.stats.retries.wait does not exist\n",
      "                                                                                \r"
     ]
    },
    {
     "data": {
      "text/plain": [
       "106"
      ]
     },
     "execution_count": 7,
     "metadata": {},
     "output_type": "execute_result"
    }
   ],
   "source": [
    "#q3\n",
    "banks_df.write.saveAsTable(\"banks\", mode=\"overwrite\")\n",
    "\n",
    "bankcount_df = spark.sql(\"\"\"\n",
    "SELECT COUNT(*) as bank_count\n",
    "FROM banks\n",
    "WHERE respondent_name LIKE '%The%' AND respondent_name LIKE '%National%'\n",
    "\"\"\")\n",
    "bank_count = bankcount_df.collect()[0]['bank_count']\n",
    "bank_count\n"
   ]
  },
  {
   "cell_type": "code",
   "execution_count": 8,
   "id": "1a364501-fbe6-4528-9f6e-fd71172073ac",
   "metadata": {},
   "outputs": [
    {
     "name": "stderr",
     "output_type": "stream",
     "text": [
      "24/04/06 00:48:45 WARN SparkStringUtils: Truncated the string representation of a plan since it was too large. This behavior can be adjusted by setting 'spark.sql.debug.maxToStringFields'.\n",
      "                                                                                \r"
     ]
    },
    {
     "data": {
      "text/plain": [
       "{'banks': False,\n",
       " 'loans': False,\n",
       " 'action_taken': True,\n",
       " 'counties': True,\n",
       " 'denial_reason': True,\n",
       " 'ethnicity': True,\n",
       " 'loan_purpose': True,\n",
       " 'loan_type': True,\n",
       " 'preapproval': True,\n",
       " 'property_type': True,\n",
       " 'race': True,\n",
       " 'sex': True,\n",
       " 'states': True,\n",
       " 'tracts': True}"
      ]
     },
     "execution_count": 8,
     "metadata": {},
     "output_type": "execute_result"
    }
   ],
   "source": [
    "#q4\n",
    "loans_df = spark.read.format(\"csv\") \\\n",
    "    .option(\"header\", \"true\") \\\n",
    "    .option(\"inferSchema\", \"true\") \\\n",
    "    .load(\"hdfs://nn:9000/hdma-wi-2021.csv\")\n",
    "\n",
    "loans_df.write.bucketBy(8, \"county_code\") \\\n",
    "    .saveAsTable(\"loans\", format=\"parquet\", mode=\"overwrite\")\n",
    "\n",
    "my_list = [\"ethnicity\", \"race\", \"sex\", \"states\", \"counties\", \"tracts\", \"action_taken\", \"denial_reason\", \n",
    "           \"loan_type\", \"loan_purpose\", \"preapproval\", \"property_type\"]\n",
    "\n",
    "for i in my_list:\n",
    "    df = spark.read.option(\"header\", \"true\").option(\"inferSchema\", \"true\").csv(f\"hdfs://nn:9000/{i}.csv\")\n",
    "    df.createOrReplaceTempView(i)\n",
    "\n",
    "tables_warehouse = spark.sql(\"SHOW TABLES\")\n",
    "\n",
    "table_list_collect = tables_warehouse.collect()\n",
    "dict_4 = {row.tableName: row.isTemporary for row in table_list_collect}\n",
    "dict_4\n"
   ]
  },
  {
   "cell_type": "code",
   "execution_count": 9,
   "id": "f52b599e-5be8-4e47-87d0-c5e854c045d5",
   "metadata": {},
   "outputs": [],
   "source": [
    "# !hdfs dfs -ls hdfs://nn:9000/user/hive/warehouse/loans\n"
   ]
  },
  {
   "cell_type": "code",
   "execution_count": 10,
   "id": "de097b67-492e-4376-807a-5b553875b068",
   "metadata": {},
   "outputs": [
    {
     "name": "stderr",
     "output_type": "stream",
     "text": [
      "                                                                                \r"
     ]
    },
    {
     "data": {
      "text/plain": [
       "6"
      ]
     },
     "execution_count": 10,
     "metadata": {},
     "output_type": "execute_result"
    }
   ],
   "source": [
    "#q5\n",
    "loan_applications_count = spark.sql(\"\"\"\n",
    "SELECT COUNT(*)\n",
    "FROM loans\n",
    "INNER JOIN banks ON loans.lei = banks.lei_2020\n",
    "WHERE banks.respondent_name = 'First National Bank'\n",
    "\"\"\").collect()[0][0]\n",
    "\n",
    "loan_applications_count\n",
    "\n"
   ]
  },
  {
   "cell_type": "code",
   "execution_count": 11,
   "id": "f29f4472-911e-45b4-ba9d-a4d5c6131e41",
   "metadata": {},
   "outputs": [],
   "source": [
    "#q6\n",
    "# banks_df.explain(\"formatted\") has output 5\n",
    "# loans_df.explain(\"formatted\") has output 99\n",
    "# 1) bank table is sent to every executor via a BroadcastExchange\n",
    "# 2) It does not involve HashAggregate because we didn't use aggregate function such as GROUP BY"
   ]
  },
  {
   "cell_type": "code",
   "execution_count": 12,
   "id": "3e1a2be6-7dd8-4a23-928d-b18adcb2f91f",
   "metadata": {},
   "outputs": [
    {
     "name": "stderr",
     "output_type": "stream",
     "text": [
      "                                                                                \r"
     ]
    },
    {
     "data": {
      "image/png": "[encoded data removed]",
      "text/plain": [
       "<Figure size 1000x600 with 1 Axes>"
      ]
     },
     "metadata": {},
     "output_type": "display_data"
    },
    {
     "data": {
      "text/plain": [
       "{'Sawyer': 38,\n",
       " 'Door': 174,\n",
       " 'Forest': 7,\n",
       " 'Ozaukee': 389,\n",
       " 'Bayfield': 33,\n",
       " 'Waukesha': 1832,\n",
       " 'Vilas': 68,\n",
       " 'Dane': 729,\n",
       " 'Oneida': 70,\n",
       " 'Florence': 8}"
      ]
     },
     "execution_count": 12,
     "metadata": {},
     "output_type": "execute_result"
    }
   ],
   "source": [
    "#q7\n",
    "top_counties_qry = \"\"\"\n",
    "SELECT counties.name AS county_name, \n",
    "       AVG(loans.loan_amount) AS avg_loan_amount,\n",
    "       COUNT(*) AS application_count\n",
    "FROM loans\n",
    "INNER JOIN counties ON loans.county_code = counties.STATE*1000 + counties.COUNTY\n",
    "INNER JOIN banks ON loans.lei = banks.lei_2020\n",
    "WHERE banks.respondent_name LIKE '%Wells Fargo%'\n",
    "GROUP BY counties.name\n",
    "ORDER BY avg_loan_amount DESC\n",
    "LIMIT 10\n",
    "\"\"\"\n",
    "\n",
    "top_counties = spark.sql(top_counties_qry) #Execute query\n",
    "list_top_counties = top_counties.collect() #collecting results to python list\n",
    "\n",
    "county_appli_dict = {row['county_name']: row['application_count'] for row in list_top_counties} #dict from the query results\n",
    "\n",
    "counties = [row['county_name'] for row in list_top_counties] #data for plotting\n",
    "application_count = [row['application_count'] for row in list_top_counties]\n",
    "\n",
    "plt.figure(figsize = (10, 6))\n",
    "plt.bar(counties, application_count, color = 'blue')\n",
    "plt.xlabel('County Name')\n",
    "plt.ylabel('Application count')\n",
    "plt.title('Top 10 Counties by Average Loan Amount for Wells Fargo Applications')\n",
    "plt.xticks(rotation = 90)\n",
    "plt.show()\n",
    "\n",
    "county_appli_dict\n"
   ]
  },
  {
   "cell_type": "code",
   "execution_count": 13,
   "id": "94a2fc88-5d0d-409a-84c1-e4cb6dcc83b4",
   "metadata": {},
   "outputs": [],
   "source": [
    "#q8\n",
    "# df_group_by_county_code = spark.sql(\"SELECT county_code, AVG(loan_amount) FROM loans GROUP BY county_code\")\n",
    "# df_group_by_county_code.explain()\n",
    "# df_group_by_lei = spark.sql(\"SELECT lei, AVG(loan_amount) FROM loans GROUP BY lei\")\n",
    "# df_group_by_lei.explain()\n",
    "# For the `lei` GroupBy, because bucketing is not applied, significant network I/O is necessary to shuffle data for\n",
    "# aggregation. In contrast, the `county_code` GroupBy benefits from bucketing, significantly reducing the amount of \n",
    "# data shuffled across the network for aggregation. However, while bucketing optimizes the operation by localizing data \n",
    "# and thus reducing network I/O, it does not entirely eliminate network I/O for aggregating partial results across \n",
    "# partitions or executors.\n"
   ]
  },
  {
   "cell_type": "code",
   "execution_count": 14,
   "id": "59ea4b76-cbfb-4491-abc4-763bb001d4bc",
   "metadata": {},
   "outputs": [
    {
     "name": "stderr",
     "output_type": "stream",
     "text": [
      "                                                                                \r"
     ]
    },
    {
     "data": {
      "text/plain": [
       "242868.0"
      ]
     },
     "execution_count": 14,
     "metadata": {},
     "output_type": "execute_result"
    }
   ],
   "source": [
    "#q9\n",
    "\n",
    "#adapted from https://www.w3schools.com/sql/sql_case.asp\n",
    "#use the site for reference on how to use SQL CASE Expression\n",
    "loans = spark.sql(\"\"\"\n",
    "     SELECT (CASE\n",
    "         WHEN action_taken=1 THEN 1\n",
    "         ELSE 0\n",
    "         END)\n",
    "     AS approval, income, interest_rate, loan_amount\n",
    "     FROM loans\n",
    " \"\"\")\n",
    "\n",
    "#adapted from https://datamadness.medium.com/casting-data-types-in-pyspark-f95d1326449b\n",
    "#used the site for adapting the use of casting data type into a double\n",
    "df = loans.select(col(\"loan_amount\").cast(\"double\").alias(\"loan_amount\"), \n",
    "                  col(\"income\").cast(\"double\").alias(\"income\"), \n",
    "                  col(\"interest_rate\").cast(\"double\").alias(\"interest_rate\"), \n",
    "                  col(\"approval\").cast(\"double\").alias(\"approval\"))\n",
    "\n",
    "df = df.na.fill(0.0)\n",
    "#df.show()\n",
    "\n",
    "train, test = df.randomSplit([0.8, 0.2], seed=41)  #spliting 8:2\n",
    "train.cache()\n",
    "\n",
    "count = float(train.filter(col(\"approval\") == 1).count()) #to doub\n",
    "count\n"
   ]
  },
  {
   "cell_type": "code",
   "execution_count": 15,
   "id": "378b72d1-3bee-41b5-90fb-9f22d02b0050",
   "metadata": {},
   "outputs": [
    {
     "name": "stderr",
     "output_type": "stream",
     "text": [
      "                                                                                \r"
     ]
    },
    {
     "data": {
      "text/plain": [
       "0.8930753904206413"
      ]
     },
     "execution_count": 15,
     "metadata": {},
     "output_type": "execute_result"
    }
   ],
   "source": [
    "#q10\n",
    "assembler = VectorAssembler(inputCols=[\"loan_amount\", \"income\", \"interest_rate\"], outputCol=\"features\") #in output columns\n",
    "df_assem_trf = assembler.transform(df)\n",
    "\n",
    "train, test = df_assem_trf.randomSplit([0.8, 0.2], seed=41) # feature col is included\n",
    "\n",
    "randf = RandomForestClassifier(featuresCol=\"features\", labelCol=\"approval\", numTrees=10) # classifier\n",
    "randf_model = randf.fit(train) #training\n",
    "\n",
    "predictions = randf_model.transform(test)\n",
    "\n",
    "evaluator = MulticlassClassificationEvaluator(labelCol=\"approval\", predictionCol=\"prediction\", metricName=\"accuracy\")\n",
    "\n",
    "accu = evaluator.evaluate(predictions)\n",
    "accu\n",
    "\n"
   ]
  },
  {
   "cell_type": "code",
   "execution_count": null,
   "id": "341f0cb0-5718-4449-9771-2852bd6014bb",
   "metadata": {},
   "outputs": [],
   "source": []
  }
 ],
 "metadata": {
  "kernelspec": {
   "display_name": "Python 3 (ipykernel)",
   "language": "python",
   "name": "python3"
  },
  "language_info": {
   "codemirror_mode": {
    "name": "ipython",
    "version": 3
   },
   "file_extension": ".py",
   "mimetype": "text/x-python",
   "name": "python",
   "nbconvert_exporter": "python",
   "pygments_lexer": "ipython3",
   "version": "3.10.12"
  }
 },
 "nbformat": 4,
 "nbformat_minor": 5
}
