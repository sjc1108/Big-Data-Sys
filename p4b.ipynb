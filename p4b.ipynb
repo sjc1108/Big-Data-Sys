{
 "cells": [
  {
   "cell_type": "code",
   "execution_count": 1,
   "id": "4daa95d5-1ec2-48bf-aa98-f7a34d64e592",
   "metadata": {},
   "outputs": [],
   "source": [
    "import requests\n",
    "import pyarrow as pa\n",
    "import pyarrow.fs"
   ]
  },
  {
   "cell_type": "code",
   "execution_count": 2,
   "id": "2ce4ed99-061a-4039-86bc-e653c5bec999",
   "metadata": {},
   "outputs": [
    {
     "name": "stdout",
     "output_type": "stream",
     "text": [
      "Configured Capacity: 51642105856 (48.10 GB)\n",
      "Present Capacity: 19867217020 (18.50 GB)\n",
      "DFS Remaining: 19338231808 (18.01 GB)\n",
      "DFS Used: 528985212 (504.48 MB)\n",
      "DFS Used%: 2.66%\n",
      "Replicated Blocks:\n",
      "\tUnder replicated blocks: 0\n",
      "\tBlocks with corrupt replicas: 0\n",
      "\tMissing blocks: 0\n",
      "\tMissing blocks (with replication factor 1): 0\n",
      "\tLow redundancy blocks with highest priority to recover: 0\n",
      "\tPending deletion blocks: 0\n",
      "Erasure Coded Block Groups: \n",
      "\tLow redundancy block groups: 0\n",
      "\tBlock groups with corrupt internal blocks: 0\n",
      "\tMissing block groups: 0\n",
      "\tLow redundancy blocks with highest priority to recover: 0\n",
      "\tPending deletion blocks: 0\n",
      "\n",
      "-------------------------------------------------\n",
      "Live datanodes (2):\n",
      "\n",
      "Name: 172.24.0.3:9866 (project-4-asian-cheese-1-dn-2.project-4-asian-cheese-1_default)\n",
      "Hostname: 56bca2a3d1a2\n",
      "Decommission Status : Normal\n",
      "Configured Capacity: 25821052928 (24.05 GB)\n",
      "DFS Used: 264936291 (252.66 MB)\n",
      "Non DFS Used: 15870223517 (14.78 GB)\n",
      "DFS Remaining: 9669115904 (9.01 GB)\n",
      "DFS Used%: 1.03%\n",
      "DFS Remaining%: 37.45%\n",
      "Configured Cache Capacity: 0 (0 B)\n",
      "Cache Used: 0 (0 B)\n",
      "Cache Remaining: 0 (0 B)\n",
      "Cache Used%: 100.00%\n",
      "Cache Remaining%: 0.00%\n",
      "Xceivers: 0\n",
      "Last contact: Sat Mar 16 07:28:03 GMT 2024\n",
      "Last Block Report: Sat Mar 16 07:24:27 GMT 2024\n",
      "Num of Blocks: 251\n",
      "\n",
      "\n",
      "Name: 172.24.0.5:9866 (project-4-asian-cheese-1-dn-1.project-4-asian-cheese-1_default)\n",
      "Hostname: 0b534b8c4501\n",
      "Decommission Status : Normal\n",
      "Configured Capacity: 25821052928 (24.05 GB)\n",
      "DFS Used: 264048921 (251.82 MB)\n",
      "Non DFS Used: 15871110887 (14.78 GB)\n",
      "DFS Remaining: 9669115904 (9.01 GB)\n",
      "DFS Used%: 1.02%\n",
      "DFS Remaining%: 37.45%\n",
      "Configured Cache Capacity: 0 (0 B)\n",
      "Cache Used: 0 (0 B)\n",
      "Cache Remaining: 0 (0 B)\n",
      "Cache Used%: 100.00%\n",
      "Cache Remaining%: 0.00%\n",
      "Xceivers: 0\n",
      "Last contact: Sat Mar 16 07:28:03 GMT 2024\n",
      "Last Block Report: Sat Mar 16 07:24:27 GMT 2024\n",
      "Num of Blocks: 250\n",
      "\n",
      "\n"
     ]
    }
   ],
   "source": [
    "#Q8:\n",
    "!hdfs dfsadmin -fs hdfs://boss:9000 -report"
   ]
  },
  {
   "cell_type": "code",
   "execution_count": 3,
   "id": "f032a135-a96a-434d-a8d7-5a49dccd104a",
   "metadata": {},
   "outputs": [
    {
     "data": {
      "text/plain": [
       "{'56bca2a3d1a2': 84, '0b534b8c4501': 83}"
      ]
     },
     "execution_count": 3,
     "metadata": {},
     "output_type": "execute_result"
    }
   ],
   "source": [
    "#Q9:\n",
    "r_b = requests.get(\"http://boss:9870/webhdfs/v1/single.csv?op=GETFILESTATUS\")  \n",
    "b_size = r_b.json()[\"FileStatus\"][\"blockSize\"] \n",
    "len= r_b.json()[\"FileStatus\"][\"length\"] \n",
    "r_b.json()\n",
    "\n",
    "b_Pt = 0\n",
    "b_valid = []\n",
    "ans = {}\n",
    "\n",
    "while (b_Pt <= len): #looping for block pointer\n",
    "    r_b = requests.get(\"http://boss:9870/webhdfs/v1/single.csv?op=OPEN&noredirect=true&offset=\" + str(b_Pt))\n",
    "    \n",
    "    if r_b.status_code ==403:\n",
    "        \n",
    "        if \"lost\" not in ans:\n",
    "            ans[\"lost\"] =1\n",
    "            b_Pt += b_size\n",
    "        else:\n",
    "            ans[\"lost\"] += 1\n",
    "            b_Pt += b_size\n",
    "    else:\n",
    "        id = r_b.json()[\"Location\"][7:19]\n",
    "        \n",
    "        if id not in ans:\n",
    "            ans[id] = 0\n",
    "            \n",
    "        ans[id] +=1\n",
    "        b_Pt += b_size\n",
    "        addy = r_b.json()['Location']\n",
    "        b_valid.append(addy[addy.index(\"offset=\") + 7:])\n",
    "\n",
    "ans\n",
    "\n"
   ]
  },
  {
   "cell_type": "code",
   "execution_count": 4,
   "id": "e634be33-97a3-4646-9b48-dbc575209a34",
   "metadata": {},
   "outputs": [
    {
     "name": "stderr",
     "output_type": "stream",
     "text": [
      "2024-03-16 07:28:07,722 WARN util.NativeCodeLoader: Unable to load native-hadoop library for your platform... using builtin-java classes where applicable\n"
     ]
    },
    {
     "data": {
      "text/plain": [
       "167"
      ]
     },
     "execution_count": 4,
     "metadata": {},
     "output_type": "execute_result"
    }
   ],
   "source": [
    "#Q10:\n",
    "b_size = 1048576\n",
    "counter = 0\n",
    "\n",
    "hdfs = pa.fs.HadoopFileSystem(\"boss\", 9000)\n",
    "file = hdfs.open_input_file(\"hdfs://boss:9000/single.csv\")\n",
    "\n",
    "for i in b_valid:\n",
    "    \n",
    "    stream = file.get_stream(int(i), b_size)\n",
    "    b_str = stream.read().decode('utf-8')\n",
    "    \n",
    "    if \"Single Family\" in b_str:\n",
    "        counter +=1\n",
    "        \n",
    "counter"
   ]
  }
 ],
 "metadata": {
  "kernelspec": {
   "display_name": "Python 3 (ipykernel)",
   "language": "python",
   "name": "python3"
  },
  "language_info": {
   "codemirror_mode": {
    "name": "ipython",
    "version": 3
   },
   "file_extension": ".py",
   "mimetype": "text/x-python",
   "name": "python",
   "nbconvert_exporter": "python",
   "pygments_lexer": "ipython3",
   "version": "3.10.12"
  }
 },
 "nbformat": 4,
 "nbformat_minor": 5
}
