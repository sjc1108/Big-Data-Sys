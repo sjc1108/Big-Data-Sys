{
 "cells": [
  {
   "cell_type": "code",
   "execution_count": 1,
   "id": "d1111bc5-4bf4-4a2f-ad54-f412ade638b2",
   "metadata": {},
   "outputs": [],
   "source": [
    "import torch\n",
    "import pandas as pd\n",
    "import numpy as np"
   ]
  },
  {
   "cell_type": "code",
   "execution_count": 2,
   "id": "c230e67c-a3cd-4dc8-b0a8-0e405099c8af",
   "metadata": {},
   "outputs": [],
   "source": [
    "test = pd.read_csv(\"test.csv\")\n",
    "train = pd.read_csv(\"train.csv\")\n",
    "test_np = test.values\n",
    "train_np = train.values"
   ]
  },
  {
   "cell_type": "code",
   "execution_count": 3,
   "id": "6245d31b-2266-4947-90a6-66f02c7ddddc",
   "metadata": {},
   "outputs": [],
   "source": [
    "trainX_np = train_np[:, :-1]  #rows, and last col\n",
    "trainY_np = train_np[:, -1:] \n",
    "\n",
    "testX_np = test_np[:, :-1] \n",
    "testY_np = test_np[:, -1:]  "
   ]
  },
  {
   "cell_type": "code",
   "execution_count": 4,
   "id": "c2ba6091-a740-4f14-ad1a-7068a4a045d0",
   "metadata": {},
   "outputs": [],
   "source": [
    "trainX = torch.tensor(trainX_np, dtype=torch.float64)\n",
    "trainY = torch.tensor(trainY_np, dtype=torch.float64) \n",
    "\n",
    "testX = torch.tensor(testX_np, dtype=torch.float64)\n",
    "testY = torch.tensor(testY_np, dtype=torch.float64)"
   ]
  },
  {
   "cell_type": "code",
   "execution_count": 5,
   "id": "7e74c934-658b-4947-a867-6f86c11c2cd4",
   "metadata": {},
   "outputs": [
    {
     "data": {
      "text/plain": [
       "83520"
      ]
     },
     "execution_count": 5,
     "metadata": {},
     "output_type": "execute_result"
    }
   ],
   "source": [
    "#q1\n",
    "q1 = trainX.nelement() * trainX.element_size()\n",
    "q1"
   ]
  },
  {
   "cell_type": "code",
   "execution_count": 6,
   "id": "43b2c50b-9f8e-479d-b9e2-9ab7b7178912",
   "metadata": {},
   "outputs": [
    {
     "data": {
      "text/plain": [
       "0.0"
      ]
     },
     "execution_count": 6,
     "metadata": {},
     "output_type": "execute_result"
    }
   ],
   "source": [
    "#q2\n",
    "trainX_16 = trainX.to(dtype=torch.float16)\n",
    "trainX_64 = trainX_16.to(dtype=torch.float64)\n",
    "diff = abs(trainX-trainX_64)\n",
    "q2 = diff.max().item()\n",
    "q2"
   ]
  },
  {
   "cell_type": "code",
   "execution_count": 7,
   "id": "c5019867-ae9a-4335-b759-747608e7f8f0",
   "metadata": {},
   "outputs": [
    {
     "data": {
      "text/plain": [
       "False"
      ]
     },
     "execution_count": 7,
     "metadata": {},
     "output_type": "execute_result"
    }
   ],
   "source": [
    "#q3\n",
    "q3 = torch.cuda.is_available()\n",
    "q3"
   ]
  },
  {
   "cell_type": "code",
   "execution_count": 8,
   "id": "cabd1909-941e-4208-aaef-6bedeb0c9783",
   "metadata": {},
   "outputs": [
    {
     "data": {
      "text/plain": [
       "9.844"
      ]
     },
     "execution_count": 8,
     "metadata": {},
     "output_type": "execute_result"
    }
   ],
   "source": [
    "#q4\n",
    "coef = torch.tensor([\n",
    "        [0.0040],\n",
    "        [0.0040],\n",
    "        [0.0040],\n",
    "        [0.0040],\n",
    "        [0.0040],\n",
    "        [0.0040], # POS_50_59_CP\n",
    "        [0.0300], # POS_60_69_CP\n",
    "        [0.0300],\n",
    "        [0.0300],\n",
    "        [0.0300]\n",
    "], dtype=trainX.dtype)\n",
    "\n",
    "q4 = (testX[0]@coef).item()\n",
    "q4"
   ]
  },
  {
   "cell_type": "code",
   "execution_count": 9,
   "id": "b46351ed-754b-4c5a-8157-5724c92f3e82",
   "metadata": {},
   "outputs": [
    {
     "data": {
      "text/plain": [
       "12.073632183908046"
      ]
     },
     "execution_count": 9,
     "metadata": {},
     "output_type": "execute_result"
    }
   ],
   "source": [
    "#q5\n",
    "q5=(testX@coef).mean().item()\n",
    "q5"
   ]
  },
  {
   "cell_type": "code",
   "execution_count": 10,
   "id": "0e58ba07-d018-4614-a26e-de418e129a2d",
   "metadata": {},
   "outputs": [
    {
     "data": {
      "text/plain": [
       "19.0"
      ]
     },
     "execution_count": 10,
     "metadata": {},
     "output_type": "execute_result"
    }
   ],
   "source": [
    "#q6\n",
    "x = torch.tensor(0.0)\n",
    "y = x ** 2 - 8 * x + 19\n",
    "float(y)"
   ]
  },
  {
   "cell_type": "code",
   "execution_count": 11,
   "id": "3132336b-85fd-4634-9bc7-580aa1c4e297",
   "metadata": {},
   "outputs": [
    {
     "data": {
      "text/plain": [
       "3.999835968017578"
      ]
     },
     "execution_count": 11,
     "metadata": {},
     "output_type": "execute_result"
    }
   ],
   "source": [
    "#q7\n",
    "def f(x):\n",
    "    return x**2 - 8*x + 19\n",
    "    \n",
    "x =torch.tensor(0.0, requires_grad=True)\n",
    "optimizer = torch.optim.SGD([x],lr=0.01)\n",
    "\n",
    "for epoch in range(500):\n",
    "    y = f(x)\n",
    "    y.backward()\n",
    "    optimizer.step() \n",
    "    optimizer.zero_grad() \n",
    "    \n",
    "x.item()"
   ]
  },
  {
   "cell_type": "code",
   "execution_count": 12,
   "id": "698fc28b-7c97-4e66-82f0-3bdab9627a2e",
   "metadata": {},
   "outputs": [
    {
     "data": {
      "text/plain": [
       "197.8007662835249"
      ]
     },
     "execution_count": 12,
     "metadata": {},
     "output_type": "execute_result"
    }
   ],
   "source": [
    "#q8\n",
    "loss_fn = torch.nn.MSELoss()\n",
    "\n",
    "coef = torch.zeros((trainX.shape[1], 1), dtype=torch.float64, requires_grad=True)\n",
    "predictions = trainX @ coef\n",
    "\n",
    "mse = loss_fn(predictions, trainY)\n",
    "mse.item() "
   ]
  },
  {
   "cell_type": "code",
   "execution_count": 13,
   "id": "6abc835e-9524-4de4-bba5-49b7d7c8257c",
   "metadata": {},
   "outputs": [
    {
     "data": {
      "text/plain": [
       "26.8113940147193"
      ]
     },
     "execution_count": 13,
     "metadata": {},
     "output_type": "execute_result"
    }
   ],
   "source": [
    "#q9\n",
    "torch.manual_seed(544)\n",
    "\n",
    "ds = torch.utils.data.TensorDataset(trainX, trainY)\n",
    "dl = torch.utils.data.DataLoader(ds, batch_size = 50, shuffle = True)\n",
    "\n",
    "optimizer = torch.optim.SGD([coef], lr = 0.000002)\n",
    "\n",
    "for epoch in range(500):\n",
    "    for batchX, batchY in dl:\n",
    "        predictions = batchX @ coef\n",
    "        loss = loss_fn(predictions, batchY)\n",
    "        loss.backward()\n",
    "        optimizer.step()\n",
    "        optimizer.zero_grad()\n",
    "        \n",
    "final_predictions = trainX @ coef #for training\n",
    "final_mse=loss_fn(final_predictions, trainY)\n",
    "final_mse.item() "
   ]
  },
  {
   "cell_type": "code",
   "execution_count": 14,
   "id": "ca127c1e-a62b-4e23-95be-abc319275226",
   "metadata": {},
   "outputs": [
    {
     "data": {
      "text/plain": [
       "29.058546925485512"
      ]
     },
     "execution_count": 14,
     "metadata": {},
     "output_type": "execute_result"
    }
   ],
   "source": [
    "#q10\n",
    "test_pred=testX @coef #for test data\n",
    "test_mse = loss_fn(test_pred,testY).item()\n",
    "test_mse"
   ]
  }
 ],
 "metadata": {
  "kernelspec": {
   "display_name": "Python 3 (ipykernel)",
   "language": "python",
   "name": "python3"
  },
  "language_info": {
   "codemirror_mode": {
    "name": "ipython",
    "version": 3
   },
   "file_extension": ".py",
   "mimetype": "text/x-python",
   "name": "python",
   "nbconvert_exporter": "python",
   "pygments_lexer": "ipython3",
   "version": "3.11.6"
  }
 },
 "nbformat": 4,
 "nbformat_minor": 5
}
