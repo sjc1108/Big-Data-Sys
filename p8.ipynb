{
 "cells": [
  {
   "cell_type": "code",
   "execution_count": 1,
   "id": "33d59e44-9f8b-4308-abf3-969f6d578559",
   "metadata": {},
   "outputs": [],
   "source": [
    "from google.cloud import bigquery\n",
    "bq = bigquery.Client()"
   ]
  },
  {
   "cell_type": "code",
   "execution_count": 2,
   "id": "3625214c-b9bb-4918-9ea9-ed100603387a",
   "metadata": {},
   "outputs": [],
   "source": [
    "# q = bq.query(\n",
    "# \"\"\"\n",
    "# select count(*) as num_rows \n",
    "# from bigquery-public-data.geo_us_boundaries.counties\n",
    "# \"\"\")\n",
    "# q.to_dataframe()"
   ]
  },
  {
   "cell_type": "code",
   "execution_count": 3,
   "id": "fdac60a6-33f3-4bc5-b51b-ed1490372023",
   "metadata": {},
   "outputs": [
    {
     "name": "stderr",
     "output_type": "stream",
     "text": [
      "/tmp/ipykernel_261221/2975260206.py:9: FutureWarning: Series.__getitem__ treating keys as positions is deprecated. In a future version, integer keys will always be treated as labels (consistent with DataFrame behavior). To access a value by position, use `ser.iloc[pos]`\n",
      "  area_land = df.loc[0][0]\n",
      "/tmp/ipykernel_261221/2975260206.py:10: FutureWarning: Series.__getitem__ treating keys as positions is deprecated. In a future version, integer keys will always be treated as labels (consistent with DataFrame behavior). To access a value by position, use `ser.iloc[pos]`\n",
      "  area_water = df.loc[0][1]\n"
     ]
    },
    {
     "data": {
      "text/plain": [
       "3.314489915768649"
      ]
     },
     "execution_count": 3,
     "metadata": {},
     "output_type": "execute_result"
    }
   ],
   "source": [
    "#q1\n",
    "q1 = bq.query(\n",
    "\"\"\"\n",
    "SELECT area_land_meters, area_water_meters\n",
    "FROM bigquery-public-data.geo_us_boundaries.counties\n",
    "WHERE county_name = \"Dane\"\n",
    "\"\"\")\n",
    "df = q1.to_dataframe()\n",
    "area_land = df.loc[0][0]\n",
    "area_water = df.loc[0][1]\n",
    "q1_ans = area_water/(area_land + area_water) *100\n",
    "q1_ans"
   ]
  },
  {
   "cell_type": "code",
   "execution_count": 4,
   "id": "63ef5ab5-f4dd-44de-8a82-cb588d713102",
   "metadata": {},
   "outputs": [
    {
     "data": {
      "text/plain": [
       "{'TX': 254, 'GA': 159, 'VA': 133, 'KY': 120, 'MO': 115}"
      ]
     },
     "execution_count": 4,
     "metadata": {},
     "output_type": "execute_result"
    }
   ],
   "source": [
    "#q2\n",
    "\n",
    "q2 = bq.query(\n",
    "\"\"\"\n",
    "SELECT s.state, COUNT(c.state_fips_code) as county_count\n",
    "FROM bigquery-public-data.geo_us_boundaries.counties c\n",
    "JOIN bigquery-public-data.geo_us_boundaries.states s\n",
    "ON c.state_fips_code = s.state_fips_code\n",
    "GROUP BY s.state\n",
    "ORDER BY county_count DESC\n",
    "limit 5\n",
    "\"\"\")\n",
    "df2 = q2.to_dataframe()\n",
    "state_county_dict_2 = df2.set_index('state')['county_count'].to_dict()\n",
    "state_county_dict_2\n",
    "\n"
   ]
  },
  {
   "cell_type": "code",
   "execution_count": 5,
   "id": "f9e91456-1f72-4c28-8657-f1c09f28aaed",
   "metadata": {},
   "outputs": [
    {
     "data": {
      "text/plain": [
       "{'q1': 5.9604644775390625e-05, 'q2': 0.00011920928955078125}"
      ]
     },
     "execution_count": 5,
     "metadata": {},
     "output_type": "execute_result"
    }
   ],
   "source": [
    "#q3\n",
    "q1 = bq.query(\n",
    "\"\"\"\n",
    "SELECT area_land_meters, area_water_meters\n",
    "FROM bigquery-public-data.geo_us_boundaries.counties\n",
    "WHERE county_name = \"Dane\"\n",
    "\"\"\", job_config = bigquery.QueryJobConfig(use_query_cache=False))\n",
    "\n",
    "q2 = bq.query(\n",
    "\"\"\"\n",
    "SELECT s.state, COUNT(c.state_fips_code) as county_count\n",
    "FROM bigquery-public-data.geo_us_boundaries.counties c\n",
    "JOIN bigquery-public-data.geo_us_boundaries.states s\n",
    "ON c.state_fips_code = s.state_fips_code\n",
    "GROUP BY s.state\n",
    "ORDER BY county_count DESC\n",
    "limit 5\n",
    "\"\"\", job_config = bigquery.QueryJobConfig(use_query_cache=False))\n",
    "\n",
    "t1 = q1.total_bytes_billed / 1024**4 * 6.25\n",
    "t2 = q2.total_bytes_billed / 1024**4 * 6.25\n",
    "\n",
    "dict = {\"q1\" : t1, \"q2\" : t2}\n",
    "dict"
   ]
  },
  {
   "cell_type": "code",
   "execution_count": 6,
   "id": "eda4af23-aed3-469e-bcaf-b5ad33d627a3",
   "metadata": {},
   "outputs": [
    {
     "data": {
      "text/plain": [
       "LoadJob<project=cs544-412920, location=US, id=e9fcbdc8-df74-48e0-975f-7fdd4f118253>"
      ]
     },
     "execution_count": 6,
     "metadata": {},
     "output_type": "execute_result"
    }
   ],
   "source": [
    "ds = bigquery.Dataset(\"cs544-412920.p8\")\n",
    "\n",
    "bq.create_dataset(ds, exists_ok=True)\n",
    "config = bigquery.LoadJobConfig(source_format=\"PARQUET\", write_disposition=\"WRITE_TRUNCATE\")\n",
    "\n",
    "load = bq.load_table_from_uri(\"gs://p8_seong/hdma-wi-2021-split.parquet\", \"cs544-412920.p8.hdma\", job_config=config)\n",
    "load.result()"
   ]
  },
  {
   "cell_type": "code",
   "execution_count": 7,
   "id": "2abc6a6c-533a-42d2-92e0-d098bebdf5ec",
   "metadata": {},
   "outputs": [
    {
     "data": {
      "text/plain": [
       "['p8']"
      ]
     },
     "execution_count": 7,
     "metadata": {},
     "output_type": "execute_result"
    }
   ],
   "source": [
    "#q4\n",
    "[ds.dataset_id for ds in bq.list_datasets(\"cs544-412920\")] # PASTE your project name"
   ]
  },
  {
   "cell_type": "code",
   "execution_count": 8,
   "id": "40aacd23-2773-4639-a8ad-a3b368a3c561",
   "metadata": {},
   "outputs": [
    {
     "data": {
      "text/plain": [
       "{'Milwaukee': 46570,\n",
       " 'Dane': 38557,\n",
       " 'Waukesha': 34159,\n",
       " 'Brown': 15615,\n",
       " 'Racine': 13007,\n",
       " 'Outagamie': 11523,\n",
       " 'Kenosha': 10744,\n",
       " 'Washington': 10726,\n",
       " 'Rock': 9834,\n",
       " 'Winnebago': 9310}"
      ]
     },
     "execution_count": 8,
     "metadata": {},
     "output_type": "execute_result"
    }
   ],
   "source": [
    "#q5\n",
    "q5 = bq.query(\"\"\"\n",
    "SELECT counties.county_name, COUNT(*) as count\n",
    "FROM cs544-412920.p8.hdma as hdma\n",
    "INNER JOIN bigquery-public-data.geo_us_boundaries.counties as counties\n",
    "ON counties.county_fips_code = hdma.county_code\n",
    "GROUP BY county_name\n",
    "ORDER BY count DESC\n",
    "LIMIT 10\n",
    "\"\"\")\n",
    "\n",
    "count_5 = {r[\"county_name\"]:r[\"count\"] for r in q5.result()}\n",
    "count_5"
   ]
  },
  {
   "cell_type": "code",
   "execution_count": 9,
   "id": "060b0de8-49e7-40d1-b20e-25939470258f",
   "metadata": {},
   "outputs": [
    {
     "data": {
      "text/plain": [
       "10"
      ]
     },
     "execution_count": 9,
     "metadata": {},
     "output_type": "execute_result"
    }
   ],
   "source": [
    "#q6\n",
    "url = \"https://docs.google.com/spreadsheets/d/1FfalqAWdzz01D1zIvBxsDWLW05-lvANWjjAj2vI4A04/\"\n",
    "\n",
    "external_config = bigquery.ExternalConfig(\"GOOGLE_SHEETS\")\n",
    "external_config.source_uris = [url]\n",
    "external_config.options.skip_leading_rows = 1\n",
    "external_config.autodetect = True\n",
    "\n",
    "table = bigquery.Table(\"cs544-412920.p8.applications\")\n",
    "table.external_data_configuration = external_config\n",
    "\n",
    "table = bq.create_table(table, exists_ok=True)\n",
    "\n",
    "q6 = bq.query(\"\"\"\n",
    "SELECT COUNT(*) as num_app\n",
    "FROM cs544-412920.p8.applications\n",
    "WHERE income = 150000\n",
    "\"\"\")\n",
    "\n",
    "q6.to_dataframe().num_app[0]"
   ]
  },
  {
   "cell_type": "code",
   "execution_count": 10,
   "id": "7ff319e2-36a6-4666-be27-575ea85d8557",
   "metadata": {},
   "outputs": [
    {
     "data": {
      "text/plain": [
       "{'Marinette': 3,\n",
       " 'Dane': 20,\n",
       " 'Florence': 1,\n",
       " 'Outagamie': 2,\n",
       " 'Sauk': 1,\n",
       " 'Walworth': 7,\n",
       " 'Oneida': 3,\n",
       " 'Barron': 1,\n",
       " 'Milwaukee': 5,\n",
       " 'Columbia': 1,\n",
       " 'Sheboygan': 1,\n",
       " 'Winnebago': 1,\n",
       " 'Green Lake': 1,\n",
       " 'Door': 7,\n",
       " 'Brown': 3,\n",
       " 'Douglas': 1,\n",
       " 'Bayfield': 1,\n",
       " 'Jefferson': 2,\n",
       " 'Monroe': 2,\n",
       " 'Fond du Lac': 1,\n",
       " 'Juneau': 1,\n",
       " 'Kewaunee': 1}"
      ]
     },
     "execution_count": 10,
     "metadata": {},
     "output_type": "execute_result"
    }
   ],
   "source": [
    "#q7\n",
    "q7 = bq.query(\"\"\"\n",
    "SELECT counties.county_name, COUNT(*) as num_app\n",
    "FROM cs544-412920.p8.applications as app\n",
    "JOIN bigquery-public-data.geo_us_boundaries.counties as counties\n",
    "ON ST_CONTAINS(counties.county_geom, ST_GEOGPOINT(app.longitude, app.latitude))\n",
    "WHERE counties.state_fips_code = \"55\"\n",
    "GROUP BY counties.county_name\n",
    "\"\"\")\n",
    "\n",
    "q7.to_dataframe()\n",
    "count_7 = {row[\"county_name\"]:row[\"num_app\"] for row in q7.result()}\n",
    "count_7"
   ]
  },
  {
   "cell_type": "code",
   "execution_count": 11,
   "id": "a59ee153-c413-4702-b7e6-3dca31a068dc",
   "metadata": {},
   "outputs": [],
   "source": [
    "ml = bq.query(\"\"\"\n",
    "CREATE OR REPLACE MODEL `cs544-412920.p8.lr`\n",
    "OPTIONS(model_type='LINEAR_REG', input_label_cols=['loan_amount']) AS \n",
    "SELECT loan_amount,income,loan_term\n",
    "FROM `cs544-412920.p8.hdma`\n",
    "\"\"\")\n"
   ]
  },
  {
   "cell_type": "code",
   "execution_count": 17,
   "id": "a7ca680f-b686-40be-b082-f7ba57802b9b",
   "metadata": {},
   "outputs": [
    {
     "data": {
      "text/plain": [
       "77323.856677691"
      ]
     },
     "execution_count": 17,
     "metadata": {},
     "output_type": "execute_result"
    }
   ],
   "source": [
    "#q8\n",
    "import time\n",
    "\n",
    "\n",
    "while True:\n",
    "    eval_list = list(bq.list_models(dataset=\"cs544-412920.p8\"))\n",
    "    if any(\"lr\" in m.model_id for m in eval_list):\n",
    "        break\n",
    "    time.sleep(5)\n",
    "\n",
    "q8 = bq.query(\"\"\"\n",
    "SELECT mean_absolute_error\n",
    "FROM ML.EVALUATE(MODEL `cs544-412920.p8.lr`, (\n",
    "SELECT loan_amount, income, loan_term\n",
    "FROM `cs544-412920.p8.hdma`\n",
    "WHERE dataset = 'test'\n",
    "))\n",
    "\"\"\")\n",
    "df = q8.to_dataframe()\n",
    "\n",
    "ans_8 = df[\"mean_absolute_error\"][0]\n",
    "ans_8"
   ]
  },
  {
   "cell_type": "code",
   "execution_count": 13,
   "id": "64391b45-6d6a-4317-ba36-b7c1056a2c41",
   "metadata": {},
   "outputs": [
    {
     "data": {
      "text/plain": [
       "380.2252844067741"
      ]
     },
     "execution_count": 13,
     "metadata": {},
     "output_type": "execute_result"
    }
   ],
   "source": [
    "#q9\n",
    "q9 = bq.query(\"\"\"\n",
    "SELECT *\n",
    "FROM ML.WEIGHTS(MODEL `cs544-412920.p8.lr`)\n",
    "\"\"\")\n",
    "weights_df = q9.to_dataframe()\n",
    "loan_term_weight = weights_df.loc[weights_df.iloc[:, 0] == 'loan_term', 'weight']\n",
    "\n",
    "ans=float(loan_term_weight.iloc[0])\n",
    "ans\n",
    "\n"
   ]
  },
  {
   "cell_type": "code",
   "execution_count": 15,
   "id": "e71c7659-58ac-4e39-a836-f04a2c912ea4",
   "metadata": {},
   "outputs": [
    {
     "data": {
      "text/plain": [
       "0.42718446601941745"
      ]
     },
     "execution_count": 15,
     "metadata": {},
     "output_type": "execute_result"
    }
   ],
   "source": [
    "#q10\n",
    "q10 = bq.query(\"\"\"\n",
    "SELECT *\n",
    "FROM ML.PREDICT(MODEL `cs544-412920.p8.lr`, (\n",
    "SELECT loan_amount,income, 360 AS loan_term\n",
    "FROM `cs544-412920.p8.applications`\n",
    "))\n",
    "\"\"\")\n",
    "\n",
    "df_10 =q10.to_dataframe()\n",
    "(df_10[\"predicted_loan_amount\"] > df_10[\"loan_amount\"]).mean()"
   ]
  },
  {
   "cell_type": "code",
   "execution_count": null,
   "id": "9ed5b243-4a7a-4bbe-b1f5-63c8ee4e1e97",
   "metadata": {},
   "outputs": [],
   "source": []
  }
 ],
 "metadata": {
  "kernelspec": {
   "display_name": "Python 3 (ipykernel)",
   "language": "python",
   "name": "python3"
  },
  "language_info": {
   "codemirror_mode": {
    "name": "ipython",
    "version": 3
   },
   "file_extension": ".py",
   "mimetype": "text/x-python",
   "name": "python",
   "nbconvert_exporter": "python",
   "pygments_lexer": "ipython3",
   "version": "3.10.12"
  }
 },
 "nbformat": 4,
 "nbformat_minor": 5
}
