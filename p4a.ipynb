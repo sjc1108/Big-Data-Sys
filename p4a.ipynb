{
 "cells": [
  {
   "cell_type": "code",
   "execution_count": 1,
   "id": "35ea0dec-e3e3-496c-9f79-8d23b352751d",
   "metadata": {},
   "outputs": [],
   "source": [
    "import requests\n",
    "import pyarrow as pa\n",
    "import pyarrow.fs\n",
    "import io"
   ]
  },
  {
   "cell_type": "code",
   "execution_count": 2,
   "id": "4d3e1482-3c77-47d6-b3b4-1888521f5596",
   "metadata": {},
   "outputs": [
    {
     "name": "stdout",
     "output_type": "stream",
     "text": [
      "Configured Capacity: 51642105856 (48.10 GB)\n",
      "Present Capacity: 20401545216 (19.00 GB)\n",
      "DFS Remaining: 20401496064 (19.00 GB)\n",
      "DFS Used: 49152 (48 KB)\n",
      "DFS Used%: 0.00%\n",
      "Replicated Blocks:\n",
      "\tUnder replicated blocks: 0\n",
      "\tBlocks with corrupt replicas: 0\n",
      "\tMissing blocks: 0\n",
      "\tMissing blocks (with replication factor 1): 0\n",
      "\tLow redundancy blocks with highest priority to recover: 0\n",
      "\tPending deletion blocks: 0\n",
      "Erasure Coded Block Groups: \n",
      "\tLow redundancy block groups: 0\n",
      "\tBlock groups with corrupt internal blocks: 0\n",
      "\tMissing block groups: 0\n",
      "\tLow redundancy blocks with highest priority to recover: 0\n",
      "\tPending deletion blocks: 0\n",
      "\n",
      "-------------------------------------------------\n",
      "Live datanodes (2):\n",
      "\n",
      "Name: 172.24.0.3:9866 (project-4-asian-cheese-1-dn-2.project-4-asian-cheese-1_default)\n",
      "Hostname: 56bca2a3d1a2\n",
      "Decommission Status : Normal\n",
      "Configured Capacity: 25821052928 (24.05 GB)\n",
      "DFS Used: 24576 (24 KB)\n",
      "Non DFS Used: 15603503104 (14.53 GB)\n",
      "DFS Remaining: 10200748032 (9.50 GB)\n",
      "DFS Used%: 0.00%\n",
      "DFS Remaining%: 39.51%\n",
      "Configured Cache Capacity: 0 (0 B)\n",
      "Cache Used: 0 (0 B)\n",
      "Cache Remaining: 0 (0 B)\n",
      "Cache Used%: 100.00%\n",
      "Cache Remaining%: 0.00%\n",
      "Xceivers: 0\n",
      "Last contact: Sat Mar 16 07:27:09 GMT 2024\n",
      "Last Block Report: Sat Mar 16 07:24:27 GMT 2024\n",
      "Num of Blocks: 0\n",
      "\n",
      "\n",
      "Name: 172.24.0.5:9866 (project-4-asian-cheese-1-dn-1.project-4-asian-cheese-1_default)\n",
      "Hostname: 0b534b8c4501\n",
      "Decommission Status : Normal\n",
      "Configured Capacity: 25821052928 (24.05 GB)\n",
      "DFS Used: 24576 (24 KB)\n",
      "Non DFS Used: 15603503104 (14.53 GB)\n",
      "DFS Remaining: 10200748032 (9.50 GB)\n",
      "DFS Used%: 0.00%\n",
      "DFS Remaining%: 39.51%\n",
      "Configured Cache Capacity: 0 (0 B)\n",
      "Cache Used: 0 (0 B)\n",
      "Cache Remaining: 0 (0 B)\n",
      "Cache Used%: 100.00%\n",
      "Cache Remaining%: 0.00%\n",
      "Xceivers: 0\n",
      "Last contact: Sat Mar 16 07:27:09 GMT 2024\n",
      "Last Block Report: Sat Mar 16 07:24:27 GMT 2024\n",
      "Num of Blocks: 0\n",
      "\n",
      "\n"
     ]
    }
   ],
   "source": [
    "#Q1:\n",
    "!hdfs dfsadmin -fs hdfs://boss:9000 -report"
   ]
  },
  {
   "cell_type": "code",
   "execution_count": 3,
   "id": "ac188e23-0539-4678-bcee-d63e77be0aea",
   "metadata": {},
   "outputs": [
    {
     "name": "stdout",
     "output_type": "stream",
     "text": [
      "File ‘hdma-wi-2021.csv’ already there; not retrieving.\n",
      "\n"
     ]
    }
   ],
   "source": [
    "\n",
    "!wget -nc https://pages.cs.wisc.edu/~harter/cs544/data/hdma-wi-2021.csv\n",
    "!hdfs dfs -D dfs.block.size=\"1M\" -D dfs.replication=1 -cp hdma-wi-2021.csv hdfs://boss:9000/single.csv\n",
    "!hdfs dfs -D dfs.block.size=\"1M\" -D dfs.replication=2 -cp hdma-wi-2021.csv hdfs://boss:9000/double.csv"
   ]
  },
  {
   "cell_type": "code",
   "execution_count": 4,
   "id": "6bfd47a7-018f-45da-b5b6-ab1125f2d3bb",
   "metadata": {},
   "outputs": [
    {
     "name": "stdout",
     "output_type": "stream",
     "text": [
      "166.8 M  166.8 M  hdfs://boss:9000/single.csv\n",
      "166.8 M  333.7 M  hdfs://boss:9000/double.csv\n"
     ]
    }
   ],
   "source": [
    "#Q2:\n",
    "!hdfs dfs -du -h hdfs://boss:9000/single.csv\n",
    "!hdfs dfs -du -h hdfs://boss:9000/double.csv\n"
   ]
  },
  {
   "cell_type": "code",
   "execution_count": 5,
   "id": "c7b5b6e8-55e2-4306-ae3b-63e591d1855d",
   "metadata": {},
   "outputs": [
    {
     "data": {
      "text/plain": [
       "{'FileStatus': {'accessTime': 1710574034718,\n",
       "  'blockSize': 1048576,\n",
       "  'childrenNum': 0,\n",
       "  'fileId': 16386,\n",
       "  'group': 'supergroup',\n",
       "  'length': 174944099,\n",
       "  'modificationTime': 1710574040908,\n",
       "  'owner': 'root',\n",
       "  'pathSuffix': '',\n",
       "  'permission': '644',\n",
       "  'replication': 1,\n",
       "  'storagePolicy': 0,\n",
       "  'type': 'FILE'}}"
      ]
     },
     "execution_count": 5,
     "metadata": {},
     "output_type": "execute_result"
    }
   ],
   "source": [
    "#Q3:\n",
    "u=\"http://boss:9870/webhdfs/v1/single.csv?op=GETFILESTATUS\"\n",
    "r = requests.get(u)\n",
    "\n",
    "r.json()"
   ]
  },
  {
   "cell_type": "code",
   "execution_count": 6,
   "id": "6d574072-8bfd-4749-a49d-d4db3650bc54",
   "metadata": {},
   "outputs": [
    {
     "data": {
      "text/plain": [
       "'http://56bca2a3d1a2:9864/webhdfs/v1/single.csv?op=OPEN&namenoderpcaddress=boss:9000&offset=0'"
      ]
     },
     "execution_count": 6,
     "metadata": {},
     "output_type": "execute_result"
    }
   ],
   "source": [
    "#Q4:\n",
    "web_u = \"http://boss:9870/webhdfs/v1/single.csv?op=OPEN&noredirect=true&offset=0\"\n",
    "\n",
    "response = requests.get(web_u)\n",
    "data = response.json()\n",
    "\n",
    "loc_u = data.get('Location', '')\n",
    "\n",
    "loc_u"
   ]
  },
  {
   "cell_type": "code",
   "execution_count": 7,
   "id": "b1ef6bb9-4f5d-4a8e-bc62-0c34c6b3eaf6",
   "metadata": {},
   "outputs": [
    {
     "data": {
      "text/plain": [
       "{'56bca2a3d1a2': 84, '0b534b8c4501': 83}"
      ]
     },
     "execution_count": 7,
     "metadata": {},
     "output_type": "execute_result"
    }
   ],
   "source": [
    "#Q5:\n",
    "web_u_5 = \"http://boss:9870/webhdfs/v1/single.csv?op=GET_BLOCK_LOCATIONS\"\n",
    "\n",
    "response = requests.get(web_u_5 )\n",
    "data = response.json()\n",
    "my_map= {}\n",
    "\n",
    "if 'LocatedBlocks' in data and 'locatedBlocks' in data['LocatedBlocks']:\n",
    "    \n",
    "    for block in data['LocatedBlocks']['locatedBlocks']:\n",
    "        \n",
    "        for loc in block['locations']: #get id for hostname/IP\n",
    "            dn_id = loc['hostName']\n",
    "            \n",
    "            if dn_id not in my_map:\n",
    "                my_map[dn_id] = 0\n",
    "            my_map[dn_id] +=1\n",
    "\n",
    "my_map\n"
   ]
  },
  {
   "cell_type": "code",
   "execution_count": 8,
   "id": "986e9e43-3b42-4b4d-992e-30e024c6da4c",
   "metadata": {},
   "outputs": [
    {
     "name": "stderr",
     "output_type": "stream",
     "text": [
      "2024-03-16 07:27:39,042 WARN util.NativeCodeLoader: Unable to load native-hadoop library for your platform... using builtin-java classes where applicable\n"
     ]
    },
    {
     "data": {
      "text/plain": [
       "b'activity_y'"
      ]
     },
     "execution_count": 8,
     "metadata": {},
     "output_type": "execute_result"
    }
   ],
   "source": [
    "#Q6:\n",
    "hdfs = pa.fs.HadoopFileSystem(\"boss\", 9000)\n",
    "file = hdfs.open_input_file(\"hdfs://boss:9000/single.csv\")\n",
    "file.read_at(10, 0)"
   ]
  },
  {
   "cell_type": "code",
   "execution_count": 9,
   "id": "5c77bf9e-4627-4783-bca1-5024eb720be5",
   "metadata": {},
   "outputs": [
    {
     "data": {
      "text/plain": [
       "444874"
      ]
     },
     "execution_count": 9,
     "metadata": {},
     "output_type": "execute_result"
    }
   ],
   "source": [
    "#Q7:\n",
    "counter = 0\n",
    "file = hdfs.open_input_file(\"hdfs://boss:9000/single.csv\")\n",
    "reader = io.TextIOWrapper(io.BufferedReader(file))\n",
    "\n",
    "for i, j in enumerate(reader):\n",
    "    \n",
    "    if \"Single Family\" in j:\n",
    "        counter+=1\n",
    "\n",
    "counter\n"
   ]
  },
  {
   "cell_type": "code",
   "execution_count": null,
   "id": "aab07845-70f9-40fc-951d-1adcc9bcc244",
   "metadata": {},
   "outputs": [],
   "source": []
  }
 ],
 "metadata": {
  "kernelspec": {
   "display_name": "Python 3 (ipykernel)",
   "language": "python",
   "name": "python3"
  },
  "language_info": {
   "codemirror_mode": {
    "name": "ipython",
    "version": 3
   },
   "file_extension": ".py",
   "mimetype": "text/x-python",
   "name": "python",
   "nbconvert_exporter": "python",
   "pygments_lexer": "ipython3",
   "version": "3.10.12"
  }
 },
 "nbformat": 4,
 "nbformat_minor": 5
}
